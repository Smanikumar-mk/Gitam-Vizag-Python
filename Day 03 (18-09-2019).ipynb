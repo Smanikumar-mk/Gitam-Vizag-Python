{
 "cells": [
  {
   "cell_type": "markdown",
   "metadata": {},
   "source": [
    "# python programming on strings\n",
    " - string\n",
    " - strings slicing\n",
    " - fundamental programs and examples with strings\n",
    " "
   ]
  },
  {
   "cell_type": "code",
   "execution_count": 1,
   "metadata": {},
   "outputs": [
    {
     "name": "stdout",
     "output_type": "stream",
     "text": [
      "python\n",
      "programming\n",
      "A\n",
      "<class 'str'>\n",
      "<class 'str'>\n",
      "<class 'str'>\n"
     ]
    }
   ],
   "source": [
    "s1 = 'python'\n",
    "s2 = \"programming\"\n",
    "s3 = 'A'\n",
    "print(s1)\n",
    "print(s2)\n",
    "print(s3)\n",
    "print(type(s1))\n",
    "print(type(s2))\n",
    "print(type(s3))"
   ]
  },
  {
   "cell_type": "code",
   "execution_count": 2,
   "metadata": {},
   "outputs": [
    {
     "name": "stdout",
     "output_type": "stream",
     "text": [
      "p\n",
      "y\n",
      "6\n",
      "n\n",
      "n\n",
      "o\n"
     ]
    }
   ],
   "source": [
    "s1 = \"python\"  \n",
    "print(s1[0])\n",
    "print(s1[1])\n",
    "print(len(s1))\n",
    "print(s1[len(s1)-1])\n",
    "print(s1[-1])\n",
    "print(s1[-2])"
   ]
  },
  {
   "cell_type": "code",
   "execution_count": 7,
   "metadata": {},
   "outputs": [
    {
     "name": "stdout",
     "output_type": "stream",
     "text": [
      "py\n",
      "on\n",
      "hon\n",
      "tho\n",
      "ytho\n"
     ]
    }
   ],
   "source": [
    "print(s1[0:2]) # Access the first two character\n",
    "print(s1[-2:]) # Access the last two character\n",
    "print(s1[3:])\n",
    "print(s1[2:5])\n",
    "print(s1[1:-1])"
   ]
  },
  {
   "cell_type": "markdown",
   "metadata": {},
   "source": [
    "# function of string operation\n"
   ]
  },
  {
   "cell_type": "code",
   "execution_count": 9,
   "metadata": {},
   "outputs": [
    {
     "data": {
      "text/plain": [
       "'kmramukinam'"
      ]
     },
     "execution_count": 9,
     "metadata": {},
     "output_type": "execute_result"
    }
   ],
   "source": [
    "#reverse the string\n",
    "\n",
    "def reverseStr(s):\n",
    "   return s[-1::-1]\n",
    "reverseStr('manikumarmk')"
   ]
  },
  {
   "cell_type": "code",
   "execution_count": 13,
   "metadata": {},
   "outputs": [
    {
     "name": "stdout",
     "output_type": "stream",
     "text": [
      "True\n",
      "False\n"
     ]
    }
   ],
   "source": [
    "#to check the given string is palindrome or not a palindrome\n",
    "\n",
    "def palindrome(s):\n",
    "    if s == s[-1::-1]:\n",
    "        return True\n",
    "    return False\n",
    "print(palindrome('mom'))\n",
    "print(palindrome('mk'))\n",
    "    "
   ]
  },
  {
   "cell_type": "code",
   "execution_count": 18,
   "metadata": {},
   "outputs": [
    {
     "name": "stdout",
     "output_type": "stream",
     "text": [
      "M K "
     ]
    }
   ],
   "source": [
    "# Function to print the upper case characters\n",
    "# Ex : python -- p\n",
    "\n",
    "\n",
    "# ASCII\n",
    "# A-Z   : 65-90\n",
    "# a-z    : 97-122\n",
    "# 0-9    : 48-57\n",
    "# space :32\n",
    "\n",
    "\n",
    "def printup(s):\n",
    "    for i in range(len(s)):\n",
    "        if ord(s[i]) >= 65 and ord(s[i]) <= 90:\n",
    "            print(s[i],end=' ')\n",
    "    return\n",
    "printup('ManiKumar')"
   ]
  },
  {
   "cell_type": "code",
   "execution_count": 27,
   "metadata": {},
   "outputs": [
    {
     "data": {
      "text/plain": [
       "'samecount'"
      ]
     },
     "execution_count": 27,
     "metadata": {},
     "output_type": "execute_result"
    }
   ],
   "source": [
    "# function to return the output as \"samecount\" or \"programming\"\n",
    "# same count--- Lower and Upper char have samecount\n",
    "#programming --- count of lower and upper case is not same\n",
    "\n",
    "\n",
    "# example #1 : python -- 3 P T O\n",
    "                  #   -- 3 y h n\n",
    "#output :samecount\n",
    "\n",
    "#ex #2 : python -- 2 P N\n",
    "#               -- 4 y t h o\n",
    "\n",
    "# output : programming\n",
    "\n",
    "\n"
   ]
  },
  {
   "cell_type": "code",
   "execution_count": null,
   "metadata": {},
   "outputs": [],
   "source": [
    "# function to extract the digits from the string \n",
    "#input : Appli"
   ]
  },
  {
   "cell_type": "code",
   "execution_count": 38,
   "metadata": {},
   "outputs": [
    {
     "data": {
      "text/plain": [
       "'programming'"
      ]
     },
     "execution_count": 38,
     "metadata": {},
     "output_type": "execute_result"
    }
   ],
   "source": [
    "def findcharcount(string):\n",
    "    upper = 0\n",
    "    lower = 0\n",
    "  \n",
    "    for i in range(len(string)): \n",
    "          \n",
    "        # For lower letters \n",
    "        if (ord(string[i]) >= 97 and\n",
    "            ord(string[i]) <= 122): \n",
    "            lower += 1\n",
    "  \n",
    "        # For upper letters \n",
    "        elif (ord(string[i]) >= 65 and\n",
    "              ord(string[i]) <= 90): \n",
    "            upper += 1\n",
    "    if lower == upper:\n",
    "            return \"samecount\"\n",
    "\n",
    "    return \"programming\"\n",
    "findcharcount('Mama')\n",
    "\n"
   ]
  },
  {
   "cell_type": "code",
   "execution_count": 43,
   "metadata": {},
   "outputs": [
    {
     "name": "stdout",
     "output_type": "stream",
     "text": [
      "1 8 8 9 "
     ]
    }
   ],
   "source": [
    "# Function to Extract the digits from the string\n",
    "# Example #1:\n",
    "# Input : Appli18cation89\n",
    "# Output : 1 8 8 9\n",
    "\n",
    "def extractDigits(s):\n",
    "    for i in range(len(s)):\n",
    "        if ord(s[i]) >= 48 and ord(s[i]) <=57:\n",
    "           print(s[i],end=' ')\n",
    "    return\n",
    "extractDigits('Appli18cation89')\n"
   ]
  },
  {
   "cell_type": "code",
   "execution_count": 47,
   "metadata": {},
   "outputs": [
    {
     "name": "stdout",
     "output_type": "stream",
     "text": [
      "38\n"
     ]
    }
   ],
   "source": [
    "# function to add the digits of the string\n",
    "# Example #1:\n",
    "# Input : Appli18cation89\n",
    "# Output : 26 (1+8+8+9) \n",
    "\n",
    "\n",
    "\n",
    "\n",
    "\n",
    "def sum_digits_string(str1):\n",
    "    sum_digit = 0\n",
    "    for x in str1:\n",
    "        if x.isdigit() == True:\n",
    "            z = int(x)\n",
    "            sum_digit = sum_digit + z\n",
    "\n",
    "    return sum_digit\n",
    "     \n",
    "print(sum_digits_string(\"Appli2345cation789 \"))\n"
   ]
  },
  {
   "cell_type": "code",
   "execution_count": 49,
   "metadata": {},
   "outputs": [
    {
     "data": {
      "text/plain": [
       "26"
      ]
     },
     "execution_count": 49,
     "metadata": {},
     "output_type": "execute_result"
    }
   ],
   "source": [
    "\n",
    "# function to add the digits of the string\n",
    "# Example #1:\n",
    "# Input : Appli18cation89\n",
    "# Output : 26 (1+8+8+9)\n",
    "\n",
    "def sumOfDigits(s):\n",
    "    sum = 0\n",
    "    for i in range(len(s)):\n",
    "        if ord(s[i]) >= 48 and ord(s[i]) <= 57 :\n",
    "            sum = sum + (ord(s[i]))-48\n",
    "    return sum\n",
    "sumOfDigits('Appli18cation89')"
   ]
  },
  {
   "cell_type": "code",
   "execution_count": 50,
   "metadata": {},
   "outputs": [
    {
     "name": "stdout",
     "output_type": "stream",
     "text": [
      "P Y T H O N "
     ]
    }
   ],
   "source": [
    "# function to select the 2nd word in upper case\n",
    "#ex :1\n",
    "#input : python made easy\n",
    "#output :easy\n",
    "\n",
    "# ex :2\n",
    "#input : learn python strings\n",
    "#output : python\n",
    "\n",
    "\n",
    "def worduppercase(s):\n",
    "    cntspace=0\n",
    "    for i in range(len(s)):\n",
    "        if ord(s[i]) == 32:\n",
    "            cntspace += 1\n",
    "        if cntspace ==0:\n",
    "            if ord(s[i]) >= 65 and ord(s[i]) <= 90:\n",
    "                print(s[i],end=' ')\n",
    "            elif ord(s[i]) >= 97 and ord(s[i]) <= 122:\n",
    "                print(chr(ord(s[i])-32),end=' ')\n",
    "        if cntspace == 2:\n",
    "            break\n",
    "    return\n",
    "worduppercase('python made easy')\n",
    "             \n",
    "\n"
   ]
  },
  {
   "cell_type": "markdown",
   "metadata": {},
   "source": [
    "### List\n",
    "- one of the data structure in python\n",
    "- data structure means to store ,sort and search options\n",
    "- its one common data structure in python , the items of list separeted by comma and encloseed in square brackets[]\n",
    "   - ex:\n",
    "      * list 1 =[1 2 3 4 5 ]\n",
    "      * list 2 =[\"gitam\",1,2,1.89,\"vizag\"]"
   ]
  },
  {
   "cell_type": "code",
   "execution_count": 67,
   "metadata": {},
   "outputs": [
    {
     "ename": "SyntaxError",
     "evalue": "can't delete function call (<ipython-input-67-a416c57d772c>, line 17)",
     "output_type": "error",
     "traceback": [
      "\u001b[1;36m  File \u001b[1;32m\"<ipython-input-67-a416c57d772c>\"\u001b[1;36m, line \u001b[1;32m17\u001b[0m\n\u001b[1;33m    del l(7)\u001b[0m\n\u001b[1;37m       ^\u001b[0m\n\u001b[1;31mSyntaxError\u001b[0m\u001b[1;31m:\u001b[0m can't delete function call\n"
     ]
    }
   ],
   "source": [
    "l=[1,8,5,64,4,46,9,'b']\n",
    "print(l) # will print all the elements in the list\n",
    "print(l[0]) #access the first element in the list\n",
    "print(l[-1])# access the last element in the list\n",
    "print(l[4:6]) # access specific element in the limits of the list\n",
    "del l[2]\n",
    "print(l)\n",
    "l[6]=\"mk\"\n",
    "print(l)\n",
    "print(len(l))  #length of the list\n",
    "print(l * 2)   # multicication of list\n",
    "print (8 in l) # knowing it is present r not\n",
    "for i in range(len(l)):\n",
    "    print(l[i],end=' ')\n",
    "print()          # printing the elements with loop \n",
    "\n",
    "del l(7)\n",
    "print(l)\n",
    "print(max(l))\n",
    "print(min(l))"
   ]
  },
  {
   "cell_type": "code",
   "execution_count": 71,
   "metadata": {},
   "outputs": [
    {
     "name": "stdout",
     "output_type": "stream",
     "text": [
      "64\n",
      "1\n",
      "137\n",
      "19\n"
     ]
    }
   ],
   "source": [
    "l=[1,8,5,64,4,46,9]\n",
    "\n",
    "print(max(l))\n",
    "print(min(l))\n",
    "print(sum(l))\n",
    "print(sum(l)//len(l))\n"
   ]
  },
  {
   "cell_type": "code",
   "execution_count": 76,
   "metadata": {},
   "outputs": [
    {
     "name": "stdout",
     "output_type": "stream",
     "text": [
      "455\n",
      "10\n"
     ]
    }
   ],
   "source": [
    "#function to return the large number from the list\n",
    "\n",
    "def largenumber(l):\n",
    "    l.sort()\n",
    "    return l[-1]\n",
    "def genericlarge(l,n):\n",
    "    l.sort()\n",
    "    return l[-n]\n",
    "l=[10,25,3,455,2]\n",
    "print(largenumber(l))\n",
    "print(genericlarge(l,3))\n"
   ]
  },
  {
   "cell_type": "code",
   "execution_count": null,
   "metadata": {},
   "outputs": [],
   "source": [
    "# fuction to find least and generic least number\n",
    "\n",
    "\n",
    "def leastnumber(l):\n",
    "    l.sort()\n",
    "    return l[0]\n",
    "def genericleastnumber(l,n):\n",
    "    l.sort()\n",
    "    return l"
   ]
  },
  {
   "cell_type": "markdown",
   "metadata": {},
   "source": [
    "### File hasndling in python\n",
    "- file-document which contains some information and resides on permanent devices\n",
    "- different type of file -- txt,.pdf,.ppt.......etc,\n",
    "- input --- keyboard\n",
    "- output - filesystem"
   ]
  },
  {
   "cell_type": "code",
   "execution_count": 95,
   "metadata": {},
   "outputs": [
    {
     "name": "stdout",
     "output_type": "stream",
     "text": [
      "file is successfully created and data has inserted\n"
     ]
    }
   ],
   "source": [
    " #function to create file and write some data to the file\n",
    "#mode -- w(it creates the file and write to the same data)\n",
    "#if the ffile already exists with same name then it will\n",
    "\n",
    "def createfile(filename):\n",
    "    f=open(filename,'w')\n",
    "    for i in range(10):\n",
    "        f.write('this is %d line \\n' % i)\n",
    "    print('file is successfully created and data has inserted')\n",
    "    return\n",
    "createfile('data.txt')\n",
    "    "
   ]
  },
  {
   "cell_type": "code",
   "execution_count": 78,
   "metadata": {},
   "outputs": [
    {
     "data": {
      "text/plain": [
       "'C:\\\\Users\\\\MANIKUMAR MK\\\\Desktop\\\\problem solving & programming'"
      ]
     },
     "execution_count": 78,
     "metadata": {},
     "output_type": "execute_result"
    }
   ],
   "source": [
    "pwd\n"
   ]
  },
  {
   "cell_type": "code",
   "execution_count": 87,
   "metadata": {},
   "outputs": [
    {
     "name": "stdout",
     "output_type": "stream",
     "text": [
      "completed successfully\n"
     ]
    }
   ],
   "source": [
    "def createfile(filename):\n",
    "    f=open(filename,'w')\n",
    "    f.write('im manikumar mk \\n')\n",
    "    print('completed successfully')\n",
    "    return\n",
    "createfile('data.txt')"
   ]
  },
  {
   "cell_type": "code",
   "execution_count": 98,
   "metadata": {},
   "outputs": [
    {
     "name": "stdout",
     "output_type": "stream",
     "text": [
      "program completed successefully\n"
     ]
    }
   ],
   "source": [
    "#mode - a(if the file is not avvaible it creates the file)\n",
    "#        -- \\if the file is already present with same name\n",
    "#--- append the data aat end of the previous lines\n",
    "\n",
    "def appendmode(filename):\n",
    "    f=open(filename,'a')\n",
    "    f.write('gitam vizag\\n')\n",
    "    f.write('python programming \\n')\n",
    "    print('program completed successefully')\n",
    "    return\n",
    "appendmode('data.txt')"
   ]
  },
  {
   "cell_type": "code",
   "execution_count": 97,
   "metadata": {},
   "outputs": [
    {
     "name": "stdout",
     "output_type": "stream",
     "text": [
      "this is 0 line \n",
      "this is 1 line \n",
      "this is 2 line \n",
      "this is 3 line \n",
      "this is 4 line \n",
      "this is 5 line \n",
      "this is 6 line \n",
      "this is 7 line \n",
      "this is 8 line \n",
      "this is 9 line \n",
      "\n"
     ]
    }
   ],
   "source": [
    "# fuction to read the file\n",
    "def readfiledata(filename):\n",
    "    f=open(filename,'r')\n",
    "    if f.mode == 'r':\n",
    "        a = f.read()\n",
    "        print(a)\n",
    "    f.close()\n",
    "    return\n",
    "readfiledata('data.txt')"
   ]
  },
  {
   "cell_type": "code",
   "execution_count": 91,
   "metadata": {},
   "outputs": [
    {
     "name": "stdout",
     "output_type": "stream",
     "text": [
      "['pro', 'gramm', 'ing', 'in', 'py', 'th', 'on']\n"
     ]
    }
   ],
   "source": [
    "#analysis on the file --b word count, char count, digit count\n",
    "s1='pro gramm ing in py th on'\n",
    "print(s1.split())"
   ]
  },
  {
   "cell_type": "code",
   "execution_count": 99,
   "metadata": {},
   "outputs": [
    {
     "data": {
      "text/plain": [
       "44"
      ]
     },
     "execution_count": 99,
     "metadata": {},
     "output_type": "execute_result"
    }
   ],
   "source": [
    "#word count -- input file\n",
    "def wordcount(filename):\n",
    "    with open(filename,'r') as f:\n",
    "        if f.mode == 'r':\n",
    "            a = f.read()\n",
    "            l = a.split()\n",
    "    return len(l)\n",
    "wordcount('data.txt')"
   ]
  },
  {
   "cell_type": "code",
   "execution_count": 103,
   "metadata": {},
   "outputs": [
    {
     "data": {
      "text/plain": [
       "10"
      ]
     },
     "execution_count": 103,
     "metadata": {},
     "output_type": "execute_result"
    }
   ],
   "source": [
    "#speccific wordcount from the file\n",
    "#example #1:\n",
    "#input -- this\n",
    "#output --10\n",
    "\n",
    "# example :2\n",
    "#input -- gitam\n",
    "#output -- 1\n",
    "\n",
    "\n",
    "def specificwordcount(filename,word):\n",
    "    with open(filename,'r') as f:\n",
    "        if f.mode == 'r':\n",
    "            a = f.read()\n",
    "            l = a.split()\n",
    "    return l.count(word)\n",
    "specificwordcount('data.txt','this')\n"
   ]
  },
  {
   "cell_type": "code",
   "execution_count": 104,
   "metadata": {},
   "outputs": [
    {
     "data": {
      "text/plain": [
       "192"
      ]
     },
     "execution_count": 104,
     "metadata": {},
     "output_type": "execute_result"
    }
   ],
   "source": [
    "#function to find the character count from the input file\n",
    "def charcount(filename):\n",
    "    with open(filename,'r') as f:\n",
    "        if f.mode == 'r':\n",
    "            a = f.read()\n",
    "            l=list(a)\n",
    "    return len(l)\n",
    "charcount('data.txt')"
   ]
  },
  {
   "cell_type": "code",
   "execution_count": 105,
   "metadata": {},
   "outputs": [
    {
     "data": {
      "text/plain": [
       "13"
      ]
     },
     "execution_count": 105,
     "metadata": {},
     "output_type": "execute_result"
    }
   ],
   "source": [
    "#find no of lines or rows in the given input stream\n",
    "\n",
    "def filelinecount(filename):\n",
    "    with open(filename,'r') as f:\n",
    "        if f.mode == 'r':\n",
    "            a = f.read()\n",
    "            l = a.split('\\n')\n",
    "    return len(l)\n",
    "filelinecount('data.txt')"
   ]
  },
  {
   "cell_type": "code",
   "execution_count": 110,
   "metadata": {},
   "outputs": [
    {
     "data": {
      "text/plain": [
       "'upper case :0 lower case : 127 digit : 10'"
      ]
     },
     "execution_count": 110,
     "metadata": {},
     "output_type": "execute_result"
    }
   ],
   "source": [
    "#function to find the upper andlower case characters\n",
    "#from the input stream\n",
    "\n",
    "def casecount(filename):\n",
    "    upper = 0\n",
    "    lower = 0\n",
    "    digit = 0\n",
    "    with open(filename,'r') as f:\n",
    "        if f.mode == 'r':\n",
    "            a = f.read()\n",
    "            l=list(a)\n",
    "    for i in range(len(l)):\n",
    "        if ord(l[i]) >= 65 and ord(l[i])<= 90:\n",
    "            upper += 1\n",
    "        elif ord(l[i]) >= 97 and ord(l[i]) <=122:\n",
    "            lower += 1\n",
    "        elif ord(l[i]) >= 48 and ord(l[i]) <= 57:\n",
    "            digit += 1\n",
    "    output = 'upper case :{0} lower case : {1} digit : {2}'. format(upper,lower,digit)        \n",
    "    return output\n",
    "casecount('data.txt')\n"
   ]
  },
  {
   "cell_type": "code",
   "execution_count": null,
   "metadata": {},
   "outputs": [],
   "source": []
  }
 ],
 "metadata": {
  "kernelspec": {
   "display_name": "Python 3",
   "language": "python",
   "name": "python3"
  },
  "language_info": {
   "codemirror_mode": {
    "name": "ipython",
    "version": 3
   },
   "file_extension": ".py",
   "mimetype": "text/x-python",
   "name": "python",
   "nbconvert_exporter": "python",
   "pygments_lexer": "ipython3",
   "version": "3.7.3"
  }
 },
 "nbformat": 4,
 "nbformat_minor": 2
}
